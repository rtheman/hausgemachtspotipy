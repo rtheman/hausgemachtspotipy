{
 "cells": [
  {
   "cell_type": "markdown",
   "metadata": {},
   "source": [
    "# Setup Enviroments "
   ]
  },
  {
   "cell_type": "markdown",
   "metadata": {},
   "source": [
    "### Download Request library\n",
    "\n",
    "**NOTE**.  Only download this on initial start of platform"
   ]
  },
  {
   "cell_type": "code",
   "execution_count": null,
   "metadata": {},
   "outputs": [],
   "source": [
    "# Only execute on initial start of platform\n",
    "!pip install requests"
   ]
  },
  {
   "cell_type": "markdown",
   "metadata": {},
   "source": [
    "### Define Spotify Developer Credentials"
   ]
  },
  {
   "cell_type": "code",
   "execution_count": 1,
   "metadata": {},
   "outputs": [],
   "source": [
    "client_id = \"cd1845f23d914228b14f6bed139ee594\"\n",
    "client_secret = \"\""
   ]
  },
  {
   "cell_type": "markdown",
   "metadata": {},
   "source": [
    "# Create an API Client Class for Spotify, `SpotifyAPI`\n",
    "\n",
    "Rather than creating a function for Spotify Access Token that's a state-like item (change overtime), let's create a Class that can response to changes overtime.\n",
    "\n",
    "This class authorize your access to Spotify API by: \n",
    "  1. Gain credentials by passing in Spotify Dev. ID and Secret Key\n",
    "  1. Gain authorization by getting token"
   ]
  },
  {
   "cell_type": "code",
   "execution_count": 2,
   "metadata": {},
   "outputs": [],
   "source": [
    "import requests\n",
    "import base64\n",
    "import datetime\n",
    "\n",
    "class SpotifyAPI(object):\n",
    "    access_token = None\n",
    "    access_token_expires = datetime.datetime.now()\n",
    "    access_token_did_expire = True\n",
    "    client_id = None\n",
    "    client_secret = None\n",
    "    \n",
    "    token_URL = \"https://accounts.spotify.com/api/token\"\n",
    "    \n",
    "    \n",
    "    \n",
    "    \n",
    "    \n",
    "    def __init__(self, client_id, client_secret, *args, **kwargs):\n",
    "        super().__init__(*args, **kwargs)\n",
    "        self.client_id = client_id\n",
    "        self.client_secret = client_secret\n",
    "    \n",
    "    \n",
    "    \n",
    "    \n",
    "    \n",
    "    def get_client_credentials(self):\n",
    "        \"\"\"\n",
    "        METHOD: Returns a base64 encoded string\n",
    "        \"\"\"\n",
    "        client_id = self.client_id\n",
    "        client_secret = self.client_secret\n",
    "        if (client_id == None) or (client_secret == None):\n",
    "            raise Exception(\"You must set a Client ID or a Client Secret with Spotify Developer Account.\")\n",
    "        \n",
    "        # Convert Spotify Credentials from string to base64-bytes (decoded)\n",
    "        client_creds = f\"{client_id}:{client_secret}\"                # type: String\n",
    "        client_creds_b64 = base64.b64encode(client_creds.encode())   # type: Base64-Byte\n",
    "        return client_creds_b64.decode()\n",
    "\n",
    "    \n",
    "    \n",
    "    def get_token_headers(self):\n",
    "        client_creds_b64 = self.get_client_credentials()\n",
    "        return {\n",
    "            \"Authorization\": f\"Basic {client_creds_b64}\"             # Basic <base64 encoded client_id:client_secret>\n",
    "        }\n",
    "    \n",
    "    \n",
    "        \n",
    "    def get_token_data(self):\n",
    "        return {\n",
    "            \"grant_type\": \"client_credentials\"\n",
    "        }\n",
    "        \n",
    "    \n",
    "    \n",
    "    \n",
    "    \n",
    "    def perform_auth(self):\n",
    "        \"\"\"\n",
    "        METHOD: Authenticate to Spotify by acquiring token\n",
    "        \"\"\"\n",
    "        token_URL = self.token_URL\n",
    "        token_data = self.get_token_data()\n",
    "        token_headers = self.get_token_headers()\n",
    "        \n",
    "        # Get Token Response\n",
    "        response = requests.post(token_URL, data=token_data, headers=token_headers)\n",
    "\n",
    "        \n",
    "        \n",
    "        # Exit if Request is Invalid...\n",
    "        if response.status_code not in range (200, 299):\n",
    "            return False\n",
    "        \n",
    "        \n",
    "        \n",
    "        # Else, proceed...\n",
    "        token_response_data = response.json()\n",
    "\n",
    "        access_token = token_response_data['access_token']\n",
    "\n",
    "        expires_in = token_response_data['expires_in']            # Unit: Seconds\n",
    "        now = datetime.datetime.now()\n",
    "        expires = now + datetime.timedelta(seconds=expires_in)\n",
    "        self.access_token = access_token\n",
    "        self.access_token_expires = expires\n",
    "        self.access_token_did_expire = expires < now\n",
    "\n",
    "        return True"
   ]
  },
  {
   "cell_type": "markdown",
   "metadata": {},
   "source": [
    "# Calling API Client Class, `SpotifyAPI`"
   ]
  },
  {
   "cell_type": "code",
   "execution_count": 6,
   "metadata": {},
   "outputs": [],
   "source": [
    "sp = SpotifyAPI(client_id, client_secret)"
   ]
  },
  {
   "cell_type": "code",
   "execution_count": 7,
   "metadata": {},
   "outputs": [
    {
     "data": {
      "text/plain": [
       "True"
      ]
     },
     "execution_count": 7,
     "metadata": {},
     "output_type": "execute_result"
    }
   ],
   "source": [
    "sp.perform_auth()"
   ]
  },
  {
   "cell_type": "code",
   "execution_count": 8,
   "metadata": {},
   "outputs": [
    {
     "data": {
      "text/plain": [
       "'BQB45IRtAf87sfYIR7AiHs1bp38xcC9x7BMD9_cXKsrPCeqwN6BeP2d_tjrxwFkPmklxeXX5ibHqdD-gSuY'"
      ]
     },
     "execution_count": 8,
     "metadata": {},
     "output_type": "execute_result"
    }
   ],
   "source": [
    "sp.access_token"
   ]
  },
  {
   "cell_type": "markdown",
   "metadata": {},
   "source": [
    "# REFERENCES\n",
    "  - https://developer.spotify.com/documentation/general/guides/authorization-guide/#client-credentials-flow"
   ]
  }
 ],
 "metadata": {
  "celltoolbar": "Raw Cell Format",
  "kernelspec": {
   "display_name": "Python 3",
   "language": "python",
   "name": "python3"
  },
  "language_info": {
   "codemirror_mode": {
    "name": "ipython",
    "version": 3
   },
   "file_extension": ".py",
   "mimetype": "text/x-python",
   "name": "python",
   "nbconvert_exporter": "python",
   "pygments_lexer": "ipython3",
   "version": "3.8.3"
  }
 },
 "nbformat": 4,
 "nbformat_minor": 4
}
