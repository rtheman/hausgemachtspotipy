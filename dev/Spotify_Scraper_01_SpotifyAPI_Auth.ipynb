{
 "cells": [
  {
   "cell_type": "markdown",
   "metadata": {},
   "source": [
    "# Setup Enviroments "
   ]
  },
  {
   "cell_type": "code",
   "execution_count": 1,
   "metadata": {},
   "outputs": [
    {
     "name": "stdout",
     "output_type": "stream",
     "text": [
      "Requirement already satisfied: requests in /opt/anaconda3/lib/python3.8/site-packages (2.24.0)\n",
      "Requirement already satisfied: certifi>=2017.4.17 in /opt/anaconda3/lib/python3.8/site-packages (from requests) (2020.6.20)\n",
      "Requirement already satisfied: idna<3,>=2.5 in /opt/anaconda3/lib/python3.8/site-packages (from requests) (2.10)\n",
      "Requirement already satisfied: urllib3!=1.25.0,!=1.25.1,<1.26,>=1.21.1 in /opt/anaconda3/lib/python3.8/site-packages (from requests) (1.25.9)\n",
      "Requirement already satisfied: chardet<4,>=3.0.2 in /opt/anaconda3/lib/python3.8/site-packages (from requests) (3.0.4)\n"
     ]
    }
   ],
   "source": [
    "# Only execute on initial start of platform\n",
    "!pip install requests"
   ]
  },
  {
   "cell_type": "markdown",
   "metadata": {},
   "source": [
    "Spotify Credentials"
   ]
  },
  {
   "cell_type": "code",
   "execution_count": 2,
   "metadata": {},
   "outputs": [],
   "source": [
    "client_id = \"cd1845f23d914228b14f6bed139ee594\"\n",
    "client_secret = \"\""
   ]
  },
  {
   "cell_type": "markdown",
   "metadata": {},
   "source": [
    "# Setup Authorization and Retrieve token from Spotify\n",
    "**Note**.  Token is for future requests.\n",
    "\n",
    "**REFERENCES**\n",
    "  - https://developer.spotify.com/documentation/general/guides/authorization-guide/#client-credentials-flow"
   ]
  },
  {
   "cell_type": "markdown",
   "metadata": {},
   "source": [
    "### Convert Spotify Credentials from string to base64-bytes"
   ]
  },
  {
   "cell_type": "code",
   "execution_count": 3,
   "metadata": {},
   "outputs": [],
   "source": [
    "import base64\n",
    "\n",
    "client_creds = f\"{client_id}:{client_secret}\"                 # type: String\n",
    "\n",
    "# first, encode string to byte\n",
    "client_creds_b = client_creds.encode()                          # type: Byte\n",
    "\n",
    "# then, convert to base64 (bypte type)\n",
    "client_creds_b64 = base64.b64encode(client_creds_b)             # type: Byte"
   ]
  },
  {
   "cell_type": "markdown",
   "metadata": {},
   "source": [
    "### Request token from Spotify"
   ]
  },
  {
   "cell_type": "code",
   "execution_count": 4,
   "metadata": {},
   "outputs": [],
   "source": [
    "# REF: https://developer.spotify.com/documentation/general/guides/authorization-guide/#client-credentials-flow\n",
    "\n",
    "token_URL = \"https://accounts.spotify.com/api/token\"\n",
    "method = \"POST\"\n",
    "\n",
    "token_data = {\n",
    "    \"grant_type\": \"client_credentials\"\n",
    "}\n",
    "\n",
    "token_headers = {\n",
    "    \"Authorization\": f\"Basic {client_creds_b64.decode()}\"     # Basic <base64 encoded client_id:client_secret>\n",
    "}"
   ]
  },
  {
   "cell_type": "code",
   "execution_count": 5,
   "metadata": {},
   "outputs": [],
   "source": [
    "import requests\n",
    "import datetime\n",
    "\n",
    "# Get Token Response\n",
    "response = requests.post(token_URL, data=token_data, headers=token_headers)\n",
    "valid_request = response.status_code in range (200, 299)\n",
    "# print(response.json())                                            # DEBUG \n",
    "\n",
    "\n",
    "\n",
    "# Execute only if Request is Valid\n",
    "if valid_request:\n",
    "    token_response_data = response.json()\n",
    "    access_token = token_response_data['access_token']\n",
    "    # token_response_data                                           # DEBUG \n",
    "    # access_token                                                  # DEBUG\n",
    "\n",
    "    now = datetime.datetime.now()\n",
    "    expires_in = token_response_data['expires_in']                # Unit: Seconds\n",
    "    expires = now + datetime.timedelta(seconds=expires_in)\n",
    "    # did_expire = expires < now                                    # DEBUG\n",
    "    # did_expire                                                    # DEBUG"
   ]
  },
  {
   "cell_type": "code",
   "execution_count": 9,
   "metadata": {},
   "outputs": [
    {
     "data": {
      "text/plain": [
       "<Response [200]>"
      ]
     },
     "execution_count": 9,
     "metadata": {},
     "output_type": "execute_result"
    }
   ],
   "source": [
    "response"
   ]
  },
  {
   "cell_type": "code",
   "execution_count": 8,
   "metadata": {},
   "outputs": [
    {
     "data": {
      "text/plain": [
       "{'access_token': 'BQBlc0glJtxikFuvMzy6s98-0_FFdt_DWw9vjoJV07YwGKJ6cLaK_X1CSDQK4U08JdQtDqK19SwsP2OcJ3s',\n",
       " 'token_type': 'Bearer',\n",
       " 'expires_in': 3600,\n",
       " 'scope': ''}"
      ]
     },
     "execution_count": 8,
     "metadata": {},
     "output_type": "execute_result"
    }
   ],
   "source": [
    "response.json()"
   ]
  },
  {
   "cell_type": "code",
   "execution_count": 10,
   "metadata": {},
   "outputs": [
    {
     "data": {
      "text/plain": [
       "'BQBlc0glJtxikFuvMzy6s98-0_FFdt_DWw9vjoJV07YwGKJ6cLaK_X1CSDQK4U08JdQtDqK19SwsP2OcJ3s'"
      ]
     },
     "execution_count": 10,
     "metadata": {},
     "output_type": "execute_result"
    }
   ],
   "source": [
    "response.json()['access_token']"
   ]
  }
 ],
 "metadata": {
  "kernelspec": {
   "display_name": "Python 3",
   "language": "python",
   "name": "python3"
  },
  "language_info": {
   "codemirror_mode": {
    "name": "ipython",
    "version": 3
   },
   "file_extension": ".py",
   "mimetype": "text/x-python",
   "name": "python",
   "nbconvert_exporter": "python",
   "pygments_lexer": "ipython3",
   "version": "3.8.3"
  }
 },
 "nbformat": 4,
 "nbformat_minor": 4
}
