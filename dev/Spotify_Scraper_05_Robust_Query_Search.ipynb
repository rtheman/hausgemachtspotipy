{
 "cells": [
  {
   "cell_type": "markdown",
   "metadata": {},
   "source": [
    "# Setup Enviroments "
   ]
  },
  {
   "cell_type": "markdown",
   "metadata": {},
   "source": [
    "### Download Request library\n",
    "\n",
    "**NOTE**.  Only download this on initial start of platform"
   ]
  },
  {
   "cell_type": "code",
   "execution_count": 5,
   "metadata": {},
   "outputs": [],
   "source": [
    "# Only execute on initial start of platform\n",
    "# !pip install requests"
   ]
  },
  {
   "cell_type": "markdown",
   "metadata": {},
   "source": [
    "### Define Spotify Developer Credentials"
   ]
  },
  {
   "cell_type": "code",
   "execution_count": 6,
   "metadata": {},
   "outputs": [],
   "source": [
    "client_id = \"cd1845f23d914228b14f6bed139ee594\"\n",
    "client_secret = \"\""
   ]
  },
  {
   "cell_type": "markdown",
   "metadata": {},
   "source": [
    "# Create an API Client Class for Spotify, `SpotifyAPI`\n",
    "\n",
    "Rather than creating a function for Spotify Access Token that's a state-like item (change overtime), let's create a Class that can response to changes overtime.\n",
    "\n",
    "This class authorize your access to Spotify API by: \n",
    "  1. Gain credentials by passing in Spotify Dev. ID and Secret Key\n",
    "  1. Gain authorization by getting token\n",
    "  \n",
    "\n",
    "_NOTE_\n",
    "    - Request Authorization's token uses \"Basic\" within the authorization header string.\n",
    "    - While using the access token to access Spotify Web API uses \"Bearer\" within the authorization header string.\n",
    "    - REF. https://developer.spotify.com/documentation/general/guides/authorization-guide/#client-credentials-flow"
   ]
  },
  {
   "cell_type": "code",
   "execution_count": 7,
   "metadata": {},
   "outputs": [],
   "source": [
    "import requests\n",
    "import base64\n",
    "import datetime\n",
    "from urllib.parse import urlencode\n",
    "\n",
    "class SpotifyAPI(object):\n",
    "    access_token = None\n",
    "    access_token_expires = datetime.datetime.now()\n",
    "    access_token_did_expire = True\n",
    "    client_id = None\n",
    "    client_secret = None\n",
    "    \n",
    "    token_URL = \"https://accounts.spotify.com/api/token\"\n",
    "    \n",
    "    \n",
    "    \n",
    "    \n",
    "    \n",
    "    def __init__(self, client_id, client_secret, *args, **kwargs):\n",
    "        super().__init__(*args, **kwargs)\n",
    "        self.client_id = client_id\n",
    "        self.client_secret = client_secret\n",
    "    \n",
    "    \n",
    "    \n",
    "    \n",
    "    \n",
    "    def get_client_credentials(self):\n",
    "        \"\"\"\n",
    "        METHOD: Returns a base64 encoded string\n",
    "        \"\"\"\n",
    "        client_id = self.client_id\n",
    "        client_secret = self.client_secret\n",
    "        if (client_id == None) or (client_secret == None):\n",
    "            raise Exception(\"You must set a Client ID or a Client Secret with Spotify Developer Account.\")\n",
    "        \n",
    "        # Convert Spotify Credentials from string to base64-bytes (decoded)\n",
    "        client_creds = f\"{client_id}:{client_secret}\"                # type: String\n",
    "        client_creds_b64 = base64.b64encode(client_creds.encode())   # type: Base64-Byte\n",
    "        return client_creds_b64.decode()\n",
    "\n",
    "    \n",
    "    \n",
    "    \n",
    "    \n",
    "    def get_token_headers(self):\n",
    "        client_creds_b64 = self.get_client_credentials()\n",
    "        return {\n",
    "            \"Authorization\": f\"Basic {client_creds_b64}\"             # Basic <base64 encoded client_id:client_secret>\n",
    "        }\n",
    "        \n",
    "    def get_token_data(self):\n",
    "        return {\n",
    "            \"grant_type\": \"client_credentials\"\n",
    "        }\n",
    "        \n",
    "    \n",
    "    \n",
    "    \n",
    "    \n",
    "    def perform_auth(self):\n",
    "        \"\"\"\n",
    "        METHOD: Authenticate to Spotify by acquiring token\n",
    "        \"\"\"\n",
    "        token_URL = self.token_URL\n",
    "        token_data = self.get_token_data()\n",
    "        token_headers = self.get_token_headers()\n",
    "        \n",
    "        # Get Token Response\n",
    "        response = requests.post(token_URL, data=token_data, headers=token_headers)\n",
    "\n",
    "        \n",
    "        # Exit if Request is Invalid...\n",
    "        if response.status_code not in range (200, 299):\n",
    "            raise Exception(\"Could not authenticate client.\")\n",
    "            # return False        \n",
    "        \n",
    "        \n",
    "        # Else, proceed...\n",
    "        token_response_data = response.json()\n",
    "\n",
    "        access_token = token_response_data['access_token']\n",
    "\n",
    "        expires_in = token_response_data['expires_in']            # Unit: Seconds\n",
    "        now = datetime.datetime.now()\n",
    "        expires = now + datetime.timedelta(seconds=expires_in)\n",
    "        self.access_token = access_token\n",
    "        self.access_token_expires = expires\n",
    "        self.access_token_did_expire = expires < now\n",
    "\n",
    "        return True\n",
    "    \n",
    "    \n",
    "    \n",
    "    \n",
    "    \n",
    "    def get_access_token(self):\n",
    "        token = self.access_token\n",
    "        expires = self.access_token_expires\n",
    "        \n",
    "        now = datetime.datetime.now()\n",
    "        if expires < now:\n",
    "            self.perform_auth()\n",
    "            return self.get_access_token()\n",
    "        elif token == None:\n",
    "            self.perform_auth()\n",
    "            return self.get_access_token()\n",
    "        return token\n",
    "    \n",
    "    \n",
    "    \n",
    "    \n",
    "    \n",
    "    def get_resource_header(self):\n",
    "        access_token = self.get_access_token()\n",
    "        headers = {\n",
    "            \"Authorization\": f\"Bearer {access_token}\"\n",
    "        }\n",
    "        return headers\n",
    "    \n",
    "    \n",
    "    \n",
    "    \n",
    "    \n",
    "    def get_resource(self, lookup_id, resource_type=\"artists\", sub_resource_type=\"\", version=\"v1\"):\n",
    "        headers = self.get_resource_header()\n",
    "        \n",
    "        if sub_resource_type != \"\":\n",
    "            endpoint = f\"https://api.spotify.com/{version}/{resource_type}/{lookup_id}/{sub_resource_type}\"\n",
    "        else:\n",
    "            endpoint = f\"https://api.spotify.com/{version}/{resource_type}/{lookup_id}\"\n",
    "        \n",
    "        print(endpoint)\n",
    "        \n",
    "        r = requests.get(endpoint, headers=headers)\n",
    "        if r.status_code not in range(200, 299):\n",
    "            return {}\n",
    "        \n",
    "        return r.json()\n",
    "    \n",
    "    \n",
    "    \n",
    "    \n",
    "    \n",
    "    def get_artist(self, _id):\n",
    "        return self.get_resource(_id, resource_type=\"artists\")\n",
    "    \n",
    "    def get_artist_albums(self, _id):\n",
    "        return self.get_resource(_id, resource_type=\"artists\", sub_resource_type=\"albums\")\n",
    "    \n",
    "    \n",
    "    \n",
    "    \n",
    "    \n",
    "    def get_album(self, _id):\n",
    "        return self.get_resource(_id, resource_type=\"albums\")\n",
    "    \n",
    "    def get_album_tracks(self, _id):\n",
    "        return self.get_resource(_id, resource_type=\"albums\", sub_resource_type=\"tracks\")\n",
    "    \n",
    "    \n",
    "    \n",
    "    \n",
    "    \n",
    "    def get_track(self, _id):\n",
    "        return self.get_resource(_id, resource_type=\"tracks\")\n",
    "        \n",
    "    def get_track_features(self, _id):\n",
    "        return self.get_resource(_id, resource_type=\"audio-features\")\n",
    "\n",
    "    \n",
    "    \n",
    "    \n",
    "        \n",
    "    def base_search(self, query_params):\n",
    "        headers = self.get_resource_header()\n",
    "        endpoint = \"https://api.spotify.com/v1/search\"\n",
    "        lookup_url = f\"{endpoint}?{query_params}\"\n",
    "        print(lookup_url)\n",
    "        \n",
    "        r = requests.get(lookup_url, headers=headers)\n",
    "        if r.status_code not in range(200, 299):\n",
    "            return {}\n",
    "\n",
    "        return r.json()\n",
    "    \n",
    "    \n",
    "    \n",
    "    \n",
    "    \n",
    "    def search(self, query=None, operator=None, operator_query=None, search_type=\"artist\"):\n",
    "        if query == None:\n",
    "            raise Exception(\"A query is required\")\n",
    "\n",
    "        if isinstance(query, dict):\n",
    "            query = \" \".join([f\"{k}:{v}\" for k,v in query.items()])\n",
    "        \n",
    "        if (operator != None) and (operator_query != None):\n",
    "            if (operator.lower() == \"or\") or (operator.lower() == \"not\"):\n",
    "                operator = operator.upper()\n",
    "                if isinstance(operator_query, str):\n",
    "                    query = f\"{query} {operator} {operator_query}\"\n",
    "        \n",
    "        query_params = urlencode({\"q\": query, \"type\": search_type.lower()})\n",
    "        print(query_params)\n",
    "        return self.base_search(query_params)"
   ]
  },
  {
   "cell_type": "markdown",
   "metadata": {},
   "source": [
    "# Calling API Client Class, `SpotifyAPI`"
   ]
  },
  {
   "cell_type": "code",
   "execution_count": 8,
   "metadata": {},
   "outputs": [],
   "source": [
    "sp = SpotifyAPI(client_id, client_secret)"
   ]
  },
  {
   "cell_type": "markdown",
   "metadata": {},
   "source": [
    "# Search Spotify\n",
    "\n",
    "The `Search` section of Spotify API endpoint retrieves Spotify Catalog information about albums, artists, playlists, tracks, shows or episodes that match a keyword string.\n",
    "\n",
    "**REF**: https://developer.spotify.com/documentation/web-api/reference/search/search/"
   ]
  },
  {
   "cell_type": "code",
   "execution_count": null,
   "metadata": {},
   "outputs": [],
   "source": [
    "# sp.search(\"Something Holy\", search_type=\"Track\")\n",
    "sp.search(\n",
    "    {\n",
    "        \"track\": \"Satellite\",\n",
    "        \"artist\": \"Dave Matthews\"\n",
    "    },\n",
    "    search_type=\"track\"\n",
    ")"
   ]
  },
  {
   "cell_type": "code",
   "execution_count": null,
   "metadata": {},
   "outputs": [],
   "source": []
  },
  {
   "cell_type": "code",
   "execution_count": null,
   "metadata": {},
   "outputs": [],
   "source": [
    "sp.search(query=\"Danger\", operator=\"NOT\", operator_query=\"Zone\", search_type=\"track\")"
   ]
  },
  {
   "cell_type": "code",
   "execution_count": null,
   "metadata": {},
   "outputs": [],
   "source": [
    "sp.get_album(\"4r8HtFE8TGFtqEpMV7mU60\")"
   ]
  },
  {
   "cell_type": "code",
   "execution_count": null,
   "metadata": {},
   "outputs": [],
   "source": []
  },
  {
   "cell_type": "code",
   "execution_count": null,
   "metadata": {},
   "outputs": [],
   "source": []
  },
  {
   "cell_type": "code",
   "execution_count": null,
   "metadata": {},
   "outputs": [],
   "source": []
  },
  {
   "cell_type": "code",
   "execution_count": null,
   "metadata": {},
   "outputs": [],
   "source": []
  },
  {
   "cell_type": "code",
   "execution_count": null,
   "metadata": {},
   "outputs": [],
   "source": []
  },
  {
   "cell_type": "code",
   "execution_count": 10,
   "metadata": {},
   "outputs": [],
   "source": [
    "import pandas as pd\n",
    "from pandas import json_normalize"
   ]
  },
  {
   "cell_type": "markdown",
   "metadata": {},
   "source": [
    "# 1.) Find Artists"
   ]
  },
  {
   "cell_type": "code",
   "execution_count": 11,
   "metadata": {},
   "outputs": [
    {
     "output_type": "stream",
     "name": "stdout",
     "text": [
      "q=Chainsmokers&type=artist\nhttps://api.spotify.com/v1/search?q=Chainsmokers&type=artist\n"
     ]
    }
   ],
   "source": [
    "# sp.search(query=\"Chainsmokers\", search_type=\"artist\")\n",
    "artists = sp.search(query=\"Chainsmokers\")\n",
    "\n",
    "df_artists = json_normalize(artists)\n",
    "# df_artists"
   ]
  },
  {
   "cell_type": "code",
   "execution_count": 12,
   "metadata": {},
   "outputs": [
    {
     "output_type": "execute_result",
     "data": {
      "text/plain": [
       "[{'external_urls': {'spotify': 'https://open.spotify.com/artist/69GGBxA162lTqCwzJG5jLp'},\n",
       "  'followers': {'href': None, 'total': 16851984},\n",
       "  'genres': ['dance pop', 'edm', 'electropop', 'pop', 'tropical house'],\n",
       "  'href': 'https://api.spotify.com/v1/artists/69GGBxA162lTqCwzJG5jLp',\n",
       "  'id': '69GGBxA162lTqCwzJG5jLp',\n",
       "  'images': [{'height': 640,\n",
       "    'url': 'https://i.scdn.co/image/960547a625bc2eb742bb3dd170cbc049d2e94cf9',\n",
       "    'width': 640},\n",
       "   {'height': 320,\n",
       "    'url': 'https://i.scdn.co/image/9da714082fe9696529abadc8e4095451221b4483',\n",
       "    'width': 320},\n",
       "   {'height': 160,\n",
       "    'url': 'https://i.scdn.co/image/caca64268346846a0753ca894b6ff92bb4dfb864',\n",
       "    'width': 160}],\n",
       "  'name': 'The Chainsmokers',\n",
       "  'popularity': 86,\n",
       "  'type': 'artist',\n",
       "  'uri': 'spotify:artist:69GGBxA162lTqCwzJG5jLp'},\n",
       " {'external_urls': {'spotify': 'https://open.spotify.com/artist/5N4BnbcPsYktt2bD0CbKYq'},\n",
       "  'followers': {'href': None, 'total': 1191},\n",
       "  'genres': [],\n",
       "  'href': 'https://api.spotify.com/v1/artists/5N4BnbcPsYktt2bD0CbKYq',\n",
       "  'id': '5N4BnbcPsYktt2bD0CbKYq',\n",
       "  'images': [],\n",
       "  'name': 'Chainsmokers',\n",
       "  'popularity': 3,\n",
       "  'type': 'artist',\n",
       "  'uri': 'spotify:artist:5N4BnbcPsYktt2bD0CbKYq'}]"
      ]
     },
     "metadata": {},
     "execution_count": 12
    }
   ],
   "source": [
    "# df_artists['artists.items'][0]"
   ]
  },
  {
   "cell_type": "code",
   "execution_count": 7,
   "metadata": {},
   "outputs": [],
   "source": [
    "# df_artists['artists.items'][0][0]"
   ]
  },
  {
   "cell_type": "code",
   "execution_count": 13,
   "metadata": {},
   "outputs": [
    {
     "output_type": "stream",
     "name": "stdout",
     "text": [
      "ID:69GGBxA162lTqCwzJG5jLp, Artist:The Chainsmokers\nID:5N4BnbcPsYktt2bD0CbKYq, Artist:Chainsmokers\n"
     ]
    }
   ],
   "source": [
    "for i in range(df_artists['artists.total'][0]):\n",
    "    artist_id = df_artists['artists.items'][0][i]['id']\n",
    "    artist_name = df_artists['artists.items'][0][i]['name']\n",
    "    print(f\"ID:{artist_id}, Artist:{artist_name}\")"
   ]
  },
  {
   "cell_type": "markdown",
   "metadata": {},
   "source": [
    "# 2.) List Artist's Albums"
   ]
  },
  {
   "cell_type": "code",
   "execution_count": 9,
   "metadata": {},
   "outputs": [
    {
     "name": "stdout",
     "output_type": "stream",
     "text": [
      "https://api.spotify.com/v1/artists/69GGBxA162lTqCwzJG5jLp/albums\n"
     ]
    }
   ],
   "source": [
    "# List artist's albums, \"The Chainsmokers\", via Spotify Artist's ID, \"69GGBxA162lTqCwzJG5jLp\"\n",
    "albums = sp.get_artist_albums(\"69GGBxA162lTqCwzJG5jLp\")\n",
    "\n",
    "df_albums = json_normalize(albums)\n",
    "# df_albums"
   ]
  },
  {
   "cell_type": "code",
   "execution_count": 10,
   "metadata": {},
   "outputs": [],
   "source": [
    "# df_albums['items'][0][0]"
   ]
  },
  {
   "cell_type": "code",
   "execution_count": 11,
   "metadata": {},
   "outputs": [
    {
     "name": "stdout",
     "output_type": "stream",
     "text": [
      "Album ID:3cbcpRK1paF6lAxd16cmIE, Number of Tracks:15, Album Name:World War Joy (Japan Edition), Release Date:2020-02-19\n",
      "Album ID:01GR4NL5O5CZM51k0aejKD, Number of Tracks:10, Album Name:World War Joy, Release Date:2019-12-06\n",
      "Album ID:1AVNEke0ElkA1cekT0a1vO, Number of Tracks:23, Album Name:Sick Boy (Special Edition), Release Date:2019-07-10\n",
      "Album ID:6ZvDJs17O3woQirttKRYCG, Number of Tracks:10, Album Name:Sick Boy, Release Date:2018-12-14\n",
      "Album ID:4JPguzRps3kuWDD5GS6oXr, Number of Tracks:12, Album Name:Memories...Do Not Open, Release Date:2017-04-07\n",
      "Album ID:3ShQFl9FladFKlonwPGZFc, Number of Tracks:7, Album Name:The Chainsmokers- Japan Special Edition, Release Date:2016-08-10\n",
      "Album ID:4iheJNVeRsjwypaKGNTbzJ, Number of Tracks:1, Album Name:Closer (Tokyo Remix), Release Date:2020-02-06\n",
      "Album ID:0KHCJzK0qQtlpz4B5oit6C, Number of Tracks:2, Album Name:Family - The Remixes, Release Date:2019-12-05\n",
      "Album ID:0Yf5xlkmcqWPjBHeKx0rKc, Number of Tracks:3, Album Name:Push My Luck - The Remixes, Release Date:2019-11-29\n",
      "Album ID:27GXIwtv7WOQIqpUdrPA3g, Number of Tracks:6, Album Name:Takeaway - The Remixes, Release Date:2019-11-01\n",
      "Album ID:1nqYsOef1yKKuGOVchbsk6, Number of Tracks:6, Album Name:Call You Mine - The Remixes, Release Date:2019-07-19\n",
      "Album ID:5vf16sRhXB2f3sS5kteU2T, Number of Tracks:3, Album Name:Do You Mean - The Remixes (feat. Ty Dolla $ign & bülow), Release Date:2019-05-24\n",
      "Album ID:1luXR8kZiVkJN6ojeRhpnA, Number of Tracks:4, Album Name:Kills You Slowly - The Remixes, Release Date:2019-04-12\n",
      "Album ID:0ctKYh2R83FinJ8SzUFRd3, Number of Tracks:1, Album Name:Who Do You Love (R3HAB Remix), Release Date:2019-03-22\n",
      "Album ID:2A1g9WAmlmCEmCVQ88A2em, Number of Tracks:2, Album Name:Hope - Remixes (feat. Winona Oak), Release Date:2019-02-01\n",
      "Album ID:4dZcaaBx14iVnPETVFz4qj, Number of Tracks:1, Album Name:Beach House (Ashworth Remix), Release Date:2018-12-08\n",
      "Album ID:1kr5PKqCSq5walEVhxNa77, Number of Tracks:1, Album Name:Save Yourself (NGHTMRE VIP REMIX), Release Date:2018-12-07\n",
      "Album ID:6ZJOq4GwzlYEh00Hw94f2s, Number of Tracks:4, Album Name:This Feeling - Remixes, Release Date:2018-11-09\n",
      "Album ID:3Yb3f9PL7aBpjuJPyiV0ot, Number of Tracks:5, Album Name:Side Effects - Remixes, Release Date:2018-07-25\n",
      "Album ID:3i2JOacHRxFzMvvbNtaTjL, Number of Tracks:6, Album Name:Somebody - Remixes, Release Date:2018-04-06\n"
     ]
    },
    {
     "ename": "IndexError",
     "evalue": "list index out of range",
     "output_type": "error",
     "traceback": [
      "\u001b[0;31m---------------------------------------------------------------------------\u001b[0m",
      "\u001b[0;31mIndexError\u001b[0m                                Traceback (most recent call last)",
      "\u001b[0;32m<ipython-input-11-a94fae2057d1>\u001b[0m in \u001b[0;36m<module>\u001b[0;34m\u001b[0m\n\u001b[1;32m      1\u001b[0m \u001b[0;32mfor\u001b[0m \u001b[0mi\u001b[0m \u001b[0;32min\u001b[0m \u001b[0mrange\u001b[0m\u001b[0;34m(\u001b[0m\u001b[0mdf_albums\u001b[0m\u001b[0;34m[\u001b[0m\u001b[0;34m'total'\u001b[0m\u001b[0;34m]\u001b[0m\u001b[0;34m[\u001b[0m\u001b[0;36m0\u001b[0m\u001b[0;34m]\u001b[0m\u001b[0;34m)\u001b[0m\u001b[0;34m:\u001b[0m\u001b[0;34m\u001b[0m\u001b[0;34m\u001b[0m\u001b[0m\n\u001b[0;32m----> 2\u001b[0;31m     \u001b[0malbum_id\u001b[0m \u001b[0;34m=\u001b[0m \u001b[0mdf_albums\u001b[0m\u001b[0;34m[\u001b[0m\u001b[0;34m'items'\u001b[0m\u001b[0;34m]\u001b[0m\u001b[0;34m[\u001b[0m\u001b[0;36m0\u001b[0m\u001b[0;34m]\u001b[0m\u001b[0;34m[\u001b[0m\u001b[0mi\u001b[0m\u001b[0;34m]\u001b[0m\u001b[0;34m[\u001b[0m\u001b[0;34m'id'\u001b[0m\u001b[0;34m]\u001b[0m\u001b[0;34m\u001b[0m\u001b[0;34m\u001b[0m\u001b[0m\n\u001b[0m\u001b[1;32m      3\u001b[0m     \u001b[0malbum_total_tracks\u001b[0m \u001b[0;34m=\u001b[0m \u001b[0mdf_albums\u001b[0m\u001b[0;34m[\u001b[0m\u001b[0;34m'items'\u001b[0m\u001b[0;34m]\u001b[0m\u001b[0;34m[\u001b[0m\u001b[0;36m0\u001b[0m\u001b[0;34m]\u001b[0m\u001b[0;34m[\u001b[0m\u001b[0mi\u001b[0m\u001b[0;34m]\u001b[0m\u001b[0;34m[\u001b[0m\u001b[0;34m'total_tracks'\u001b[0m\u001b[0;34m]\u001b[0m\u001b[0;34m\u001b[0m\u001b[0;34m\u001b[0m\u001b[0m\n\u001b[1;32m      4\u001b[0m     \u001b[0malbum_name\u001b[0m \u001b[0;34m=\u001b[0m \u001b[0mdf_albums\u001b[0m\u001b[0;34m[\u001b[0m\u001b[0;34m'items'\u001b[0m\u001b[0;34m]\u001b[0m\u001b[0;34m[\u001b[0m\u001b[0;36m0\u001b[0m\u001b[0;34m]\u001b[0m\u001b[0;34m[\u001b[0m\u001b[0mi\u001b[0m\u001b[0;34m]\u001b[0m\u001b[0;34m[\u001b[0m\u001b[0;34m'name'\u001b[0m\u001b[0;34m]\u001b[0m\u001b[0;34m\u001b[0m\u001b[0;34m\u001b[0m\u001b[0m\n\u001b[1;32m      5\u001b[0m     \u001b[0malbum_release_date\u001b[0m \u001b[0;34m=\u001b[0m \u001b[0mdf_albums\u001b[0m\u001b[0;34m[\u001b[0m\u001b[0;34m'items'\u001b[0m\u001b[0;34m]\u001b[0m\u001b[0;34m[\u001b[0m\u001b[0;36m0\u001b[0m\u001b[0;34m]\u001b[0m\u001b[0;34m[\u001b[0m\u001b[0mi\u001b[0m\u001b[0;34m]\u001b[0m\u001b[0;34m[\u001b[0m\u001b[0;34m'release_date'\u001b[0m\u001b[0;34m]\u001b[0m\u001b[0;34m\u001b[0m\u001b[0;34m\u001b[0m\u001b[0m\n",
      "\u001b[0;31mIndexError\u001b[0m: list index out of range"
     ]
    }
   ],
   "source": [
    "for i in range(df_albums['total'][0]):\n",
    "    album_id = df_albums['items'][0][i]['id']\n",
    "    album_total_tracks = df_albums['items'][0][i]['total_tracks']\n",
    "    album_name = df_albums['items'][0][i]['name']\n",
    "    album_release_date = df_albums['items'][0][i]['release_date']\n",
    "    print(f\"Album ID:{album_id}, Number of Tracks:{album_total_tracks}, Album Name:{album_name}, Release Date:{album_release_date}\")"
   ]
  },
  {
   "cell_type": "markdown",
   "metadata": {},
   "source": [
    "# 3.) List Artist-Album's Tracks"
   ]
  },
  {
   "cell_type": "code",
   "execution_count": 12,
   "metadata": {},
   "outputs": [
    {
     "name": "stdout",
     "output_type": "stream",
     "text": [
      "https://api.spotify.com/v1/albums/4JPguzRps3kuWDD5GS6oXr/tracks\n"
     ]
    }
   ],
   "source": [
    "# List tracks for album, \"Memories...Do Not Open\", from The Chainsmokers via Spotify's Album ID, 4JPguzRps3kuWDD5GS6oXr\"\n",
    "tracks = sp.get_album_tracks(\"4JPguzRps3kuWDD5GS6oXr\")\n",
    "\n",
    "df_tracks = json_normalize(tracks)\n",
    "# df_tracks"
   ]
  },
  {
   "cell_type": "code",
   "execution_count": 13,
   "metadata": {
    "scrolled": true
   },
   "outputs": [],
   "source": [
    "# df_tracks['items'][0][0]"
   ]
  },
  {
   "cell_type": "code",
   "execution_count": 14,
   "metadata": {},
   "outputs": [
    {
     "name": "stdout",
     "output_type": "stream",
     "text": [
      "Track ID:0wfbD5rAksdXUzRvMfM3x5, Track #:1, Track Name:The One\n",
      "Track ID:6cPyTS0Kk2sc4xQwC93kOg, Track #:2, Track Name:Break Up Every Night\n",
      "Track ID:26AuyrZGzWWiYZPSd3XBIg, Track #:3, Track Name:Bloodstream\n",
      "Track ID:1pJQAHpD51J7GYaFrrFO9S, Track #:4, Track Name:Don't Say (feat. Emily Warren)\n",
      "Track ID:6RUKPb4LETWmmr3iAEQktW, Track #:5, Track Name:Something Just Like This\n",
      "Track ID:6V9kwssTrwkKT72imgowj9, Track #:6, Track Name:My Type (feat. Emily Warren)\n",
      "Track ID:5xhJmd0I15jFcEdqxfCzKk, Track #:7, Track Name:It Won't Kill Ya (feat. Louane)\n",
      "Track ID:72jbDTw1piOOj770jWNeaG, Track #:8, Track Name:Paris\n",
      "Track ID:6KjbNLbRjuoa8rEq5yNA6H, Track #:9, Track Name:Honest\n",
      "Track ID:0dj1CtyRxZ4bnIT4Q20jNT, Track #:10, Track Name:Wake Up Alone (feat. Jhené Aiko)\n",
      "Track ID:1KeZgPUr54C8iz3FjqzVoz, Track #:11, Track Name:Young\n",
      "Track ID:6GeD5g9vZTz25Egf8kxoIY, Track #:12, Track Name:Last Day Alive (feat. Florida Georgia Line)\n"
     ]
    }
   ],
   "source": [
    "for i in range(df_tracks['total'][0]):\n",
    "#     artist_name = df_tracks['items'][0][i]['artists'][0]['name']\n",
    "#     artist_id = df_tracks['items'][0][i]['artists'][0]['id']\n",
    "    track_id = df_tracks['items'][0][i]['id']\n",
    "    track_num = df_tracks['items'][0][i]['track_number']\n",
    "    track_name = df_tracks['items'][0][i]['name']\n",
    "    print(f\"Track ID:{track_id}, Track #:{track_num}, Track Name:{track_name}\")"
   ]
  },
  {
   "cell_type": "markdown",
   "metadata": {},
   "source": [
    "# 4.) List Tracks' Audio Features"
   ]
  },
  {
   "cell_type": "code",
   "execution_count": 15,
   "metadata": {},
   "outputs": [
    {
     "name": "stdout",
     "output_type": "stream",
     "text": [
      "https://api.spotify.com/v1/audio-features/?ids=0wfbD5rAksdXUzRvMfM3x5,6cPyTS0Kk2sc4xQwC93kOg,26AuyrZGzWWiYZPSd3XBIg\n"
     ]
    }
   ],
   "source": [
    "# List track(s) audio features via track's Spotify ID\n",
    "tracks = \"0wfbD5rAksdXUzRvMfM3x5,6cPyTS0Kk2sc4xQwC93kOg,26AuyrZGzWWiYZPSd3XBIg\"\n",
    "request_string = f\"?ids={tracks}\"\n",
    "\n",
    "df_tracks_audiofeatures = sp.get_track_features(request_string)"
   ]
  },
  {
   "cell_type": "code",
   "execution_count": 26,
   "metadata": {},
   "outputs": [
    {
     "data": {
      "text/plain": [
       "[{'danceability': 0.76,\n",
       "  'energy': 0.303,\n",
       "  'key': 2,\n",
       "  'loudness': -11.362,\n",
       "  'mode': 1,\n",
       "  'speechiness': 0.0284,\n",
       "  'acousticness': 0.238,\n",
       "  'instrumentalness': 8.09e-06,\n",
       "  'liveness': 0.294,\n",
       "  'valence': 0.15,\n",
       "  'tempo': 99.991,\n",
       "  'type': 'audio_features',\n",
       "  'id': '0wfbD5rAksdXUzRvMfM3x5',\n",
       "  'uri': 'spotify:track:0wfbD5rAksdXUzRvMfM3x5',\n",
       "  'track_href': 'https://api.spotify.com/v1/tracks/0wfbD5rAksdXUzRvMfM3x5',\n",
       "  'analysis_url': 'https://api.spotify.com/v1/audio-analysis/0wfbD5rAksdXUzRvMfM3x5',\n",
       "  'duration_ms': 177573,\n",
       "  'time_signature': 4},\n",
       " {'danceability': 0.624,\n",
       "  'energy': 0.806,\n",
       "  'key': 1,\n",
       "  'loudness': -5.957,\n",
       "  'mode': 1,\n",
       "  'speechiness': 0.0437,\n",
       "  'acousticness': 0.00411,\n",
       "  'instrumentalness': 0,\n",
       "  'liveness': 0.0872,\n",
       "  'valence': 0.528,\n",
       "  'tempo': 149.999,\n",
       "  'type': 'audio_features',\n",
       "  'id': '6cPyTS0Kk2sc4xQwC93kOg',\n",
       "  'uri': 'spotify:track:6cPyTS0Kk2sc4xQwC93kOg',\n",
       "  'track_href': 'https://api.spotify.com/v1/tracks/6cPyTS0Kk2sc4xQwC93kOg',\n",
       "  'analysis_url': 'https://api.spotify.com/v1/audio-analysis/6cPyTS0Kk2sc4xQwC93kOg',\n",
       "  'duration_ms': 207520,\n",
       "  'time_signature': 4},\n",
       " {'danceability': 0.62,\n",
       "  'energy': 0.627,\n",
       "  'key': 9,\n",
       "  'loudness': -5.889,\n",
       "  'mode': 1,\n",
       "  'speechiness': 0.0259,\n",
       "  'acousticness': 0.0317,\n",
       "  'instrumentalness': 0,\n",
       "  'liveness': 0.172,\n",
       "  'valence': 0.164,\n",
       "  'tempo': 90.955,\n",
       "  'type': 'audio_features',\n",
       "  'id': '26AuyrZGzWWiYZPSd3XBIg',\n",
       "  'uri': 'spotify:track:26AuyrZGzWWiYZPSd3XBIg',\n",
       "  'track_href': 'https://api.spotify.com/v1/tracks/26AuyrZGzWWiYZPSd3XBIg',\n",
       "  'analysis_url': 'https://api.spotify.com/v1/audio-analysis/26AuyrZGzWWiYZPSd3XBIg',\n",
       "  'duration_ms': 224280,\n",
       "  'time_signature': 4}]"
      ]
     },
     "execution_count": 26,
     "metadata": {},
     "output_type": "execute_result"
    }
   ],
   "source": [
    "# df_tracks_audiofeatures\n",
    "df_tracks_audiofeatures['audio_features']"
   ]
  },
  {
   "cell_type": "code",
   "execution_count": 31,
   "metadata": {},
   "outputs": [
    {
     "name": "stdout",
     "output_type": "stream",
     "text": [
      "Track ID:0wfbD5rAksdXUzRvMfM3x5, danceability:0.76, energy:0.303, loudness:-11.362, speechiness:0.0284, acousticness:0.238, instrumentalness:8.09e-06, liveness:0.294, valence:0.15, tempo:99.991\n",
      "Track ID:6cPyTS0Kk2sc4xQwC93kOg, danceability:0.624, energy:0.806, loudness:-5.957, speechiness:0.0437, acousticness:0.00411, instrumentalness:0, liveness:0.0872, valence:0.528, tempo:149.999\n",
      "Track ID:26AuyrZGzWWiYZPSd3XBIg, danceability:0.62, energy:0.627, loudness:-5.889, speechiness:0.0259, acousticness:0.0317, instrumentalness:0, liveness:0.172, valence:0.164, tempo:90.955\n"
     ]
    }
   ],
   "source": [
    "for i in range(len(df_tracks_audiofeatures['audio_features'])):\n",
    "    track_id = df_tracks_audiofeatures['audio_features'][i]['id']\n",
    "    track_danceability = df_tracks_audiofeatures['audio_features'][i]['danceability']\n",
    "    track_energy = df_tracks_audiofeatures['audio_features'][i]['energy']\n",
    "    track_loudness = df_tracks_audiofeatures['audio_features'][i]['loudness']\n",
    "    track_speechiness = df_tracks_audiofeatures['audio_features'][i]['speechiness']\n",
    "    track_acousticness = df_tracks_audiofeatures['audio_features'][i]['acousticness']\n",
    "    track_instrumentalness = df_tracks_audiofeatures['audio_features'][i]['instrumentalness']\n",
    "    track_liveness = df_tracks_audiofeatures['audio_features'][i]['liveness']\n",
    "    track_valence = df_tracks_audiofeatures['audio_features'][i]['valence']\n",
    "    track_tempo = df_tracks_audiofeatures['audio_features'][i]['tempo']\n",
    "    print(\n",
    "        f\"Track ID:{track_id}, \"\n",
    "        f\"danceability:{track_danceability}, \"\n",
    "        f\"energy:{track_energy}, \"\n",
    "        f\"loudness:{track_loudness}, \"\n",
    "        f\"speechiness:{track_speechiness}, \"\n",
    "        f\"acousticness:{track_acousticness}, \"\n",
    "        f\"instrumentalness:{track_instrumentalness}, \"\n",
    "        f\"liveness:{track_liveness}, \"\n",
    "        f\"valence:{track_valence}, \"\n",
    "        f\"tempo:{track_tempo}\")"
   ]
  },
  {
   "cell_type": "code",
   "execution_count": null,
   "metadata": {},
   "outputs": [],
   "source": []
  },
  {
   "cell_type": "code",
   "execution_count": null,
   "metadata": {},
   "outputs": [],
   "source": []
  },
  {
   "cell_type": "code",
   "execution_count": null,
   "metadata": {},
   "outputs": [],
   "source": []
  },
  {
   "cell_type": "code",
   "execution_count": null,
   "metadata": {},
   "outputs": [],
   "source": []
  },
  {
   "cell_type": "code",
   "execution_count": null,
   "metadata": {},
   "outputs": [],
   "source": []
  },
  {
   "cell_type": "code",
   "execution_count": null,
   "metadata": {},
   "outputs": [],
   "source": []
  },
  {
   "cell_type": "code",
   "execution_count": null,
   "metadata": {},
   "outputs": [],
   "source": []
  },
  {
   "cell_type": "code",
   "execution_count": null,
   "metadata": {},
   "outputs": [],
   "source": []
  },
  {
   "cell_type": "code",
   "execution_count": null,
   "metadata": {},
   "outputs": [],
   "source": []
  },
  {
   "cell_type": "code",
   "execution_count": null,
   "metadata": {},
   "outputs": [],
   "source": []
  },
  {
   "cell_type": "markdown",
   "metadata": {},
   "source": [
    "# REFERENCES\n",
    "  - Spotify User's Credentials https://developer.spotify.com/documentation/general/guides/authorization-guide/#client-credentials-flow\n",
    "  - Spotify Web API - Search https://developer.spotify.com/documentation/web-api/reference/search/search/\n",
    "  - Spotify Web API - Artists https://developer.spotify.com/documentation/web-api/reference/artists/\n",
    "  - Spotify Web API - Albums https://developer.spotify.com/documentation/web-api/reference/albums/"
   ]
  }
 ],
 "metadata": {
  "celltoolbar": "Raw Cell Format",
  "kernelspec": {
   "display_name": "Python 3",
   "language": "python",
   "name": "python3"
  },
  "language_info": {
   "codemirror_mode": {
    "name": "ipython",
    "version": 3
   },
   "file_extension": ".py",
   "mimetype": "text/x-python",
   "name": "python",
   "nbconvert_exporter": "python",
   "pygments_lexer": "ipython3",
   "version": "3.8.3-final"
  }
 },
 "nbformat": 4,
 "nbformat_minor": 4
}