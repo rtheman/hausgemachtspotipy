{
 "cells": [
  {
   "cell_type": "code",
   "execution_count": null,
   "metadata": {},
   "outputs": [],
   "source": [
    "from client.hausgemacht_SpotiPy import *\n",
    "import pandas as pd\n",
    "import datetime\n",
    "import math"
   ]
  },
  {
   "cell_type": "markdown",
   "metadata": {},
   "source": [
    "# Define Spotify Developer Credentials"
   ]
  },
  {
   "cell_type": "code",
   "execution_count": null,
   "metadata": {},
   "outputs": [],
   "source": [
    "client_id = \"cd1845f23d914228b14f6bed139ee594\"\n",
    "client_secret = \"\""
   ]
  },
  {
   "cell_type": "markdown",
   "metadata": {},
   "source": [
    "# Calling API Client Class, `SpotifyAPI`"
   ]
  },
  {
   "cell_type": "code",
   "execution_count": null,
   "metadata": {},
   "outputs": [],
   "source": [
    "# Calling API Client Class, `SpotifyAPI`\n",
    "\n",
    "sp = SpotifyAPI(client_id, client_secret)"
   ]
  },
  {
   "cell_type": "markdown",
   "metadata": {},
   "source": [
    "---\n",
    "\n",
    "# 1.) General Search\n",
    "\n",
    "The `Search` section of Spotify API endpoint retrieves Spotify Catalog information about albums, artists, playlists, tracks, shows or episodes that match a keyword string.\n",
    "\n",
    "**REF**: https://developer.spotify.com/documentation/web-api/reference/search/search/"
   ]
  },
  {
   "source": [
    "## a.-- via Dictionary"
   ],
   "cell_type": "markdown",
   "metadata": {}
  },
  {
   "source": [
    "sp.search(\n",
    "    {\n",
    "        \"track\": \"Something Just Like This\",\n",
    "        \"artist\": \"The Chainsmokers\"\n",
    "    },\n",
    "    search_type=\"track\"\n",
    ")"
   ],
   "cell_type": "code",
   "metadata": {},
   "execution_count": null,
   "outputs": []
  },
  {
   "source": [
    "## b.-- via variables: `query` and `search_type`"
   ],
   "cell_type": "markdown",
   "metadata": {}
  },
  {
   "cell_type": "code",
   "execution_count": null,
   "metadata": {},
   "outputs": [],
   "source": [
    "artists_resp = sp.search(query=\"Chainsmokers\", search_type=\"artist\")\n",
    "\n",
    "artists_resp[\"artists\"]"
   ]
  },
  {
   "cell_type": "markdown",
   "metadata": {},
   "source": [
    "---\n",
    "\n",
    "# 2.) Artists\n",
    "\n",
    "This section focus on searches related to Artist\n",
    "\n",
    "  1. Artist Details by artist's Spotify ID\n",
    "  1. Artist's Albums by artist's Spotify ID\n",
    "\n",
    "_ REF. https://developer.spotify.com/documentation/web-api/reference/artists/ _"
   ]
  },
  {
   "source": [
    "## 1.-- Artist Details by artist's Spotify ID\n",
    "\n",
    "Once you've identify the target artist, thereby artist's Spotify ID.  Use this method to query details of artist."
   ],
   "cell_type": "markdown",
   "metadata": {}
  },
  {
   "cell_type": "code",
   "execution_count": null,
   "metadata": {},
   "outputs": [],
   "source": [
    "# Search for artist's detail, \"The Chainsmokers\"\n",
    "sp.get_artist(\"69GGBxA162lTqCwzJG5jLp\")"
   ]
  },
  {
   "cell_type": "markdown",
   "metadata": {},
   "source": [
    "## 2.-- Artist's Albums by artist's Spotify ID\n",
    "\n",
    "List all artist's albums by searching with artist's Spotify ID"
   ]
  },
  {
   "cell_type": "code",
   "execution_count": null,
   "metadata": {},
   "outputs": [],
   "source": [
    "sp.get_artist_albums('1cIilB8ckONPBhSG6IvxSu')"
   ]
  },
  {
   "source": [
    "---\n",
    "\n",
    "# 3.) Albums\n",
    "\n",
    "This section focus on searches related to Album\n",
    "\n",
    "  1. Get details of an album\n",
    "  1. Get an Album's Tracks\n",
    "\n",
    "_REF. https://developer.spotify.com/documentation/web-api/reference/albums/ _"
   ],
   "cell_type": "markdown",
   "metadata": {}
  },
  {
   "source": [
    "## 1.-- Get details of an album\n",
    "\n",
    "_ REF. https://developer.spotify.com/documentation/web-api/reference/albums/get-album/ _"
   ],
   "cell_type": "markdown",
   "metadata": {}
  },
  {
   "cell_type": "code",
   "execution_count": null,
   "metadata": {},
   "outputs": [],
   "source": [
    "sp.get_album(\"4r8HtFE8TGFtqEpMV7mU60\")"
   ]
  },
  {
   "cell_type": "markdown",
   "metadata": {},
   "source": [
    "## 2.-- Get tracks of an album by album's Spotify ID\n",
    "\n",
    "_ REF. https://developer.spotify.com/documentation/web-api/reference/albums/get-albums-tracks/ _"
   ]
  },
  {
   "cell_type": "code",
   "execution_count": null,
   "metadata": {},
   "outputs": [],
   "source": [
    "# List tracks for album, \"World War Joy\", from The Chainsmokers via Spotify's Album ID, 01GR4NL5O5CZM51k0aejKD\"\n",
    "sp.get_album_tracks(\"4r8HtFE8TGFtqEpMV7mU60\")"
   ]
  },
  {
   "cell_type": "markdown",
   "metadata": {},
   "source": [
    "---\n",
    "\n",
    "# 4.) Tracks\n",
    "\n",
    "  1. Get details of a track\n",
    "  1. Get details of multiple tracks simultenanously\n",
    "  1. Get audio features of a track\n",
    "  1. Get audio features of multiple tracks simultaenously\n",
    "\n",
    "_ REF. https://developer.spotify.com/documentation/web-api/reference/tracks/ _"
   ]
  },
  {
   "source": [
    "## 1.-- Get details of a track\n",
    "\n",
    "Get details of a track by a track's Spotify ID\n",
    "\n",
    "_ REF. https://developer.spotify.com/documentation/web-api/reference/tracks/get-track/ _"
   ],
   "cell_type": "markdown",
   "metadata": {}
  },
  {
   "cell_type": "code",
   "execution_count": null,
   "metadata": {},
   "outputs": [],
   "source": [
    "# List detail of a single track\n",
    "sp.get_track(\"2TbVFPekhi2pfR81VC9ZMN\")"
   ]
  },
  {
   "source": [
    "## 2.-- Details of multiple tracks\n",
    "\n",
    "Get details of multiple tracks by tracks' Spotify ID\n",
    "\n",
    "_ REF. https://developer.spotify.com/documentation/web-api/reference/tracks/get-several-tracks/ _"
   ],
   "cell_type": "markdown",
   "metadata": {}
  },
  {
   "cell_type": "code",
   "execution_count": null,
   "metadata": {},
   "outputs": [],
   "source": [
    "# List tracks' details via track's Spotify ID\n",
    "tracks = \"6RUKPb4LETWmmr3iAEQktW,3g0mEQx3NTanacLseoP0Gw,2oejEp50ZzPuQTQ6v54Evp\"\n",
    "request_string = f\"?ids={tracks}\"\n",
    "\n",
    "sp.get_track(request_string)"
   ]
  },
  {
   "source": [
    "## 3.-- Audio Features of a Track\n",
    "\n",
    "Get audio features of a track by searching with track's Spotify ID\n",
    "\n",
    "_ REF. https://developer.spotify.com/documentation/web-api/reference/tracks/get-audio-features/ _"
   ],
   "cell_type": "markdown",
   "metadata": {}
  },
  {
   "cell_type": "code",
   "execution_count": null,
   "metadata": {},
   "outputs": [],
   "source": [
    "sp.get_track_features(\"2TbVFPekhi2pfR81VC9ZMN\")"
   ]
  },
  {
   "cell_type": "markdown",
   "metadata": {},
   "source": [
    "## 4.-- Audio Features of Multiple Tracks\n",
    "\n",
    "Get audio features of multiple tracks with tracks' Spotify ID\n",
    "\n",
    "_ REF. https://developer.spotify.com/documentation/web-api/reference/tracks/get-several-audio-features/ _"
   ]
  },
  {
   "cell_type": "code",
   "execution_count": null,
   "metadata": {
    "scrolled": true
   },
   "outputs": [],
   "source": [
    "# List track(s) audio features via track's Spotify ID\n",
    "tracks = \"6RUKPb4LETWmmr3iAEQktW,3g0mEQx3NTanacLseoP0Gw,2oejEp50ZzPuQTQ6v54Evp\"\n",
    "request_string = f\"?ids={tracks}\"\n",
    "\n",
    "sp.get_track_features(request_string)"
   ]
  },
  {
   "cell_type": "markdown",
   "metadata": {},
   "source": [
    "---\n",
    "---\n",
    "---\n",
    "\n",
    "# REFERENCES\n",
    "  - Spotify User's Credentials https://developer.spotify.com/documentation/general/guides/authorization-guide/#client-credentials-flow\n",
    "  - Spotify Web API - Search https://developer.spotify.com/documentation/web-api/reference/search/search/\n",
    "  - Spotify Web API - Artists https://developer.spotify.com/documentation/web-api/reference/artists/\n",
    "  - Spotify Web API - Albums https://developer.spotify.com/documentation/web-api/reference/albums/"
   ]
  }
 ],
 "metadata": {
  "kernelspec": {
   "display_name": "Python 3",
   "language": "python",
   "name": "python3"
  },
  "language_info": {
   "codemirror_mode": {
    "name": "ipython",
    "version": 3
   },
   "file_extension": ".py",
   "mimetype": "text/x-python",
   "name": "python",
   "nbconvert_exporter": "python",
   "pygments_lexer": "ipython3",
   "version": "3.8.3-final"
  }
 },
 "nbformat": 4,
 "nbformat_minor": 4
}